{
 "cells": [
  {
   "cell_type": "code",
   "execution_count": 1,
   "metadata": {},
   "outputs": [],
   "source": [
    "from selenium import webdriver as wb\n",
    "from selenium.webdriver.common.keys import Keys\n",
    "import os # 파일 시스템을 위한 라이브러리 ex) 파일, 폴더를 생성하거나 삭제\n",
    "from urllib.request import urlretrieve as ure # 이미지의 경로를 파일로 저장\n",
    "from bs4 import BeautifulSoup as bs\n",
    "import matplotlib.pyplot as plt\n",
    "import time"
   ]
  },
  {
   "cell_type": "code",
   "execution_count": 2,
   "metadata": {},
   "outputs": [],
   "source": [
    "# 여기만 바꾸면 됨!!\n",
    "\n",
    "# 영어이름 : 폴더&파일명\n",
    "foodname = \"steak\"\n",
    "\n",
    "# 한글이름 : 검색명\n",
    "searchname = \"스테이크\"\n",
    "\n",
    "# cnt 음식 파일 맨 마지막 숫자를 넣으세요!\n",
    "cnt = 104"
   ]
  },
  {
   "cell_type": "code",
   "execution_count": 3,
   "metadata": {},
   "outputs": [
    {
     "name": "stdout",
     "output_type": "stream",
     "text": [
      "이미 있음\n"
     ]
    }
   ],
   "source": [
    "# 해당 음식 이름으로 폴더 생성\n",
    "\n",
    "try:\n",
    "    os.mkdir(\"C:/Users/SMT021/foodimage/datasets/{}\".format(foodname))\n",
    "except:\n",
    "    print(\"이미 있음\")"
   ]
  },
  {
   "cell_type": "code",
   "execution_count": 4,
   "metadata": {},
   "outputs": [],
   "source": [
    "# 셀레니움 켜서 검색어로 네이버 이미지 검색\n",
    "\n",
    "driver = wb.Chrome(\"C:/Users/SMT021/Desktop/chromedriver.exe\")\n",
    "url = \"https://search.naver.com/search.naver?where=image&sm=tab_jum&query={}\".format(searchname)\n",
    "driver.get(url)"
   ]
  },
  {
   "cell_type": "code",
   "execution_count": 5,
   "metadata": {},
   "outputs": [],
   "source": [
    "# 사진이 많이 나오도록 page down 키 자동 입력\n",
    "more=driver.find_element_by_name(\"query\")\n",
    "\n",
    "try:\n",
    "    for i in range(30):\n",
    "        more.send_keys(Keys.PAGE_DOWN)\n",
    "        time.sleep(0.5) # 0.5초마다 실행됨 안걸어 놓으면 중복되서 나올 수 있음\n",
    "except:\n",
    "    print(i)\n",
    "    # 에러가 나면 횟수를 출력"
   ]
  },
  {
   "cell_type": "code",
   "execution_count": 6,
   "metadata": {},
   "outputs": [],
   "source": [
    "soup=bs(driver.page_source,\"lxml\")"
   ]
  },
  {
   "cell_type": "code",
   "execution_count": 7,
   "metadata": {},
   "outputs": [],
   "source": [
    "img=soup.select(\"._image\")"
   ]
  },
  {
   "cell_type": "code",
   "execution_count": 8,
   "metadata": {},
   "outputs": [],
   "source": [
    "img_list=[]\n",
    "\n",
    "for i in img:\n",
    "    if i[\"src\"][:4]==\"data\":\n",
    "        img_list.append(i[\"data-lazy-src\"])\n",
    "    else:\n",
    "        img_list.append(i[\"src\"])"
   ]
  },
  {
   "cell_type": "code",
   "execution_count": 9,
   "metadata": {},
   "outputs": [
    {
     "name": "stderr",
     "output_type": "stream",
     "text": [
      "100%|████████████████████████████████████████████████████████████████████████████████| 488/488 [02:24<00:00,  3.38it/s]\n"
     ]
    }
   ],
   "source": [
    "\n",
    "from tqdm import tqdm\n",
    "for i in tqdm(range(len(img_list))):\n",
    "    ure(img_list[i], \"C:/Users/SMT021/foodimage/datasets/{}/{}.{}.png\".format(foodname, foodname, cnt))\n",
    "    cnt+=1\n",
    "    time.sleep(0.2)"
   ]
  },
  {
   "cell_type": "code",
   "execution_count": null,
   "metadata": {},
   "outputs": [],
   "source": []
  }
 ],
 "metadata": {
  "kernelspec": {
   "display_name": "Python 3",
   "language": "python",
   "name": "python3"
  },
  "language_info": {
   "codemirror_mode": {
    "name": "ipython",
    "version": 3
   },
   "file_extension": ".py",
   "mimetype": "text/x-python",
   "name": "python",
   "nbconvert_exporter": "python",
   "pygments_lexer": "ipython3",
   "version": "3.6.12"
  }
 },
 "nbformat": 4,
 "nbformat_minor": 4
}
