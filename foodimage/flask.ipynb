{
 "cells": [
  {
   "cell_type": "code",
   "execution_count": 1,
   "metadata": {},
   "outputs": [],
   "source": [
    "import PIL\n",
    "import numpy as np\n",
    "import pandas as pd\n",
    "import matplotlib.pyplot as plt\n",
    "import os\n",
    "from tensorflow.keras.preprocessing import image"
   ]
  },
  {
   "cell_type": "code",
   "execution_count": 2,
   "metadata": {},
   "outputs": [],
   "source": [
    "# 각 폴더를 생성\n",
    "# 원 훈련 데이터가 들어있는 폴더\n",
    "original_dataset_dir = \"./datasets/\"\n",
    "\n",
    "# 일부 데이터가 들어갈 폴더 생성\n",
    "base_dir = \"./datasets/foodimage\"\n",
    "if not os.path.exists(base_dir):\n",
    "    os.mkdir(base_dir)\n",
    "    \n",
    "# ./data/foodimage/train\n",
    "# 이어지는 폴더를 연결해준다\n",
    "\n",
    "train_dir = os.path.join(base_dir, \"train\")\n",
    "if not os.path.exists(train_dir):\n",
    "    os.mkdir(train_dir)\n",
    "test_dir = os.path.join(base_dir, \"test\")\n",
    "if not os.path.exists(test_dir):\n",
    "    os.mkdir(test_dir)\n",
    "validation_dir = os.path.join(base_dir, \"validation\")\n",
    "if not os.path.exists(validation_dir):\n",
    "    os.mkdir(validation_dir)\n"
   ]
  },
  {
   "cell_type": "code",
   "execution_count": 8,
   "metadata": {},
   "outputs": [],
   "source": [
    "dic = {'Cpasta': 0,\n",
    " 'SeaMustardSoup': 1,\n",
    " 'aglio': 2,\n",
    " 'bulgogi': 3,\n",
    " 'galbijjim': 4,\n",
    " 'jabchae': 5,\n",
    " 'salad': 6,\n",
    " 'soybean_soup': 7,\n",
    " 'steak': 8,\n",
    " 'tomatopasta': 9}"
   ]
  },
  {
   "cell_type": "code",
   "execution_count": 6,
   "metadata": {},
   "outputs": [],
   "source": [
    "from tensorflow.keras.models import load_model\n",
    "\n",
    "model2 = load_model(\"./model/foodxception_trainable-0024-0.9208.hdf5\")"
   ]
  },
  {
   "cell_type": "markdown",
   "metadata": {},
   "source": [
    "flask 실행"
   ]
  },
  {
   "cell_type": "code",
   "execution_count": 11,
   "metadata": {
    "scrolled": true
   },
   "outputs": [
    {
     "name": "stdout",
     "output_type": "stream",
     "text": [
      " * Serving Flask app \"__main__\" (lazy loading)\n",
      " * Environment: production\n",
      "   WARNING: This is a development server. Do not use it in a production deployment.\n",
      "   Use a production WSGI server instead.\n",
      " * Debug mode: off\n"
     ]
    },
    {
     "name": "stderr",
     "output_type": "stream",
     "text": [
      " * Running on http://localhost:8999/ (Press CTRL+C to quit)\n",
      "127.0.0.1 - - [24/Feb/2021 16:03:01] \"\u001b[37mGET /upload HTTP/1.1\u001b[0m\" 200 -\n",
      "127.0.0.1 - - [24/Feb/2021 16:03:02] \"\u001b[37mGET /upload HTTP/1.1\u001b[0m\" 200 -\n",
      "[2021-02-24 16:03:09,027] ERROR in app: Exception on /fileUpload [POST]\n",
      "Traceback (most recent call last):\n",
      "  File \"C:\\Users\\SMT021\\anaconda3\\envs\\deep\\lib\\site-packages\\flask\\app.py\", line 2447, in wsgi_app\n",
      "    response = self.full_dispatch_request()\n",
      "  File \"C:\\Users\\SMT021\\anaconda3\\envs\\deep\\lib\\site-packages\\flask\\app.py\", line 1952, in full_dispatch_request\n",
      "    rv = self.handle_user_exception(e)\n",
      "  File \"C:\\Users\\SMT021\\anaconda3\\envs\\deep\\lib\\site-packages\\flask\\app.py\", line 1821, in handle_user_exception\n",
      "    reraise(exc_type, exc_value, tb)\n",
      "  File \"C:\\Users\\SMT021\\anaconda3\\envs\\deep\\lib\\site-packages\\flask\\_compat.py\", line 39, in reraise\n",
      "    raise value\n",
      "  File \"C:\\Users\\SMT021\\anaconda3\\envs\\deep\\lib\\site-packages\\flask\\app.py\", line 1950, in full_dispatch_request\n",
      "    rv = self.dispatch_request()\n",
      "  File \"C:\\Users\\SMT021\\anaconda3\\envs\\deep\\lib\\site-packages\\flask\\app.py\", line 1936, in dispatch_request\n",
      "    return self.view_functions[rule.endpoint](**req.view_args)\n",
      "  File \"<ipython-input-11-f8962df1c9cb>\", line 16, in upload_file\n",
      "    f.save(secure_filename(f.filename))\n",
      "  File \"C:\\Users\\SMT021\\anaconda3\\envs\\deep\\lib\\site-packages\\werkzeug\\datastructures.py\", line 2800, in save\n",
      "    dst = open(dst, \"wb\")\n",
      "FileNotFoundError: [Errno 2] No such file or directory: ''\n",
      "127.0.0.1 - - [24/Feb/2021 16:03:09] \"\u001b[1m\u001b[35mPOST /fileUpload HTTP/1.1\u001b[0m\" 500 -\n",
      "127.0.0.1 - - [24/Feb/2021 16:03:50] \"\u001b[37mGET /upload HTTP/1.1\u001b[0m\" 200 -\n",
      "127.0.0.1 - - [24/Feb/2021 16:03:50] \"\u001b[37mGET /upload HTTP/1.1\u001b[0m\" 200 -\n",
      "127.0.0.1 - - [24/Feb/2021 16:03:52] \"\u001b[32mPOST /fileUpload HTTP/1.1\u001b[0m\" 302 -\n"
     ]
    },
    {
     "name": "stdout",
     "output_type": "stream",
     "text": [
      "agliorecipe4.PNG\n"
     ]
    },
    {
     "name": "stderr",
     "output_type": "stream",
     "text": [
      "127.0.0.1 - - [24/Feb/2021 16:17:12] \"\u001b[37mGET /upload HTTP/1.1\u001b[0m\" 200 -\n",
      "127.0.0.1 - - [24/Feb/2021 16:17:12] \"\u001b[37mGET /upload HTTP/1.1\u001b[0m\" 200 -\n",
      "127.0.0.1 - - [24/Feb/2021 16:17:12] \"\u001b[37mGET /static/css/bootstrap.css.map HTTP/1.1\u001b[0m\" 200 -\n",
      "127.0.0.1 - - [24/Feb/2021 16:17:12] \"\u001b[37mGET /static/js/bootstrap.bundle.min.js.map HTTP/1.1\u001b[0m\" 200 -\n",
      "127.0.0.1 - - [24/Feb/2021 16:17:15] \"\u001b[32mPOST /fileUpload HTTP/1.1\u001b[0m\" 302 -\n"
     ]
    },
    {
     "name": "stdout",
     "output_type": "stream",
     "text": [
      "agliorecipe4.PNG\n"
     ]
    },
    {
     "name": "stderr",
     "output_type": "stream",
     "text": [
      "127.0.0.1 - - [24/Feb/2021 16:17:34] \"\u001b[37mGET /static/js/bootstrap.bundle.min.js.map HTTP/1.1\u001b[0m\" 200 -\n",
      "127.0.0.1 - - [24/Feb/2021 16:17:34] \"\u001b[37mGET /static/css/bootstrap.css.map HTTP/1.1\u001b[0m\" 200 -\n",
      "127.0.0.1 - - [24/Feb/2021 17:23:39] \"\u001b[37mGET /upload HTTP/1.1\u001b[0m\" 200 -\n",
      "127.0.0.1 - - [24/Feb/2021 17:23:40] \"\u001b[37mGET /upload HTTP/1.1\u001b[0m\" 200 -\n",
      "127.0.0.1 - - [24/Feb/2021 17:23:43] \"\u001b[32mPOST /fileUpload HTTP/1.1\u001b[0m\" 302 -\n"
     ]
    },
    {
     "name": "stdout",
     "output_type": "stream",
     "text": [
      "agliorecipe4.PNG\n"
     ]
    },
    {
     "name": "stderr",
     "output_type": "stream",
     "text": [
      "127.0.0.1 - - [24/Feb/2021 17:25:13] \"\u001b[37mGET /upload HTTP/1.1\u001b[0m\" 200 -\n",
      "127.0.0.1 - - [24/Feb/2021 17:25:13] \"\u001b[37mGET /upload HTTP/1.1\u001b[0m\" 200 -\n",
      "127.0.0.1 - - [24/Feb/2021 17:25:13] \"\u001b[37mGET /static/css/bootstrap.css.map HTTP/1.1\u001b[0m\" 200 -\n",
      "127.0.0.1 - - [24/Feb/2021 17:25:13] \"\u001b[37mGET /static/js/bootstrap.bundle.min.js.map HTTP/1.1\u001b[0m\" 200 -\n",
      "127.0.0.1 - - [24/Feb/2021 17:25:16] \"\u001b[32mPOST /fileUpload HTTP/1.1\u001b[0m\" 302 -\n"
     ]
    },
    {
     "name": "stdout",
     "output_type": "stream",
     "text": [
      "aglio3.PNG\n"
     ]
    },
    {
     "name": "stderr",
     "output_type": "stream",
     "text": [
      "127.0.0.1 - - [24/Feb/2021 17:25:56] \"\u001b[37mGET /upload HTTP/1.1\u001b[0m\" 200 -\n",
      "127.0.0.1 - - [24/Feb/2021 17:25:56] \"\u001b[37mGET /upload HTTP/1.1\u001b[0m\" 200 -\n",
      "127.0.0.1 - - [24/Feb/2021 17:25:56] \"\u001b[37mGET /static/css/bootstrap.css.map HTTP/1.1\u001b[0m\" 200 -\n",
      "127.0.0.1 - - [24/Feb/2021 17:25:56] \"\u001b[37mGET /static/js/bootstrap.bundle.min.js.map HTTP/1.1\u001b[0m\" 200 -\n",
      "127.0.0.1 - - [24/Feb/2021 17:25:59] \"\u001b[32mPOST /fileUpload HTTP/1.1\u001b[0m\" 302 -\n"
     ]
    },
    {
     "name": "stdout",
     "output_type": "stream",
     "text": [
      "agliorecipe4.PNG\n"
     ]
    },
    {
     "name": "stderr",
     "output_type": "stream",
     "text": [
      "127.0.0.1 - - [24/Feb/2021 17:26:18] \"\u001b[37mGET /upload HTTP/1.1\u001b[0m\" 200 -\n",
      "127.0.0.1 - - [24/Feb/2021 17:26:19] \"\u001b[37mGET /upload HTTP/1.1\u001b[0m\" 200 -\n",
      "127.0.0.1 - - [24/Feb/2021 17:26:19] \"\u001b[37mGET /static/js/bootstrap.bundle.min.js.map HTTP/1.1\u001b[0m\" 200 -\n",
      "127.0.0.1 - - [24/Feb/2021 17:26:19] \"\u001b[37mGET /static/css/bootstrap.css.map HTTP/1.1\u001b[0m\" 200 -\n",
      "127.0.0.1 - - [24/Feb/2021 17:26:23] \"\u001b[32mPOST /fileUpload HTTP/1.1\u001b[0m\" 302 -\n"
     ]
    },
    {
     "name": "stdout",
     "output_type": "stream",
     "text": [
      "aglio3.PNG\n"
     ]
    }
   ],
   "source": [
    "from flask import Flask, render_template, request, redirect\n",
    "from werkzeug.utils import secure_filename\n",
    "app = Flask(__name__)\n",
    "\n",
    "# 업로드 HTML 렌더링\n",
    "@app.route('/upload')\n",
    "def render_file():\n",
    "    return render_template('./upload.html')\n",
    "\n",
    "# 파일 업로드 처리\n",
    "@app.route('/fileUpload', methods = ['GET', 'POST'])\n",
    "def upload_file():\n",
    "    if request.method == 'POST':\n",
    "        f = request.files['file']\n",
    "        # 저장할 경로 + 파일명\n",
    "        f.save(secure_filename(f.filename))\n",
    "        print(f.filename)\n",
    "        img_path = './{}'.format(f.filename)\n",
    "        img = image.load_img(img_path, target_size=(224, 224))\n",
    "        img_data = image.img_to_array(img)\n",
    "        img_data = np.expand_dims(img_data, axis=0)\n",
    "        img_data /= 255.\n",
    "        pred = model2.predict(img_data)\n",
    "        ind=np.where(pred[0]==pred[0].max())[0][0]\n",
    "        dishname=list(dic.keys())[ind]\n",
    "        dishnamelist=[\"SeaMustardSoup\", \"soybean_soup\", \"salad\", \"galbijjim\", \"steak\", \"aglio\", \"Cpasta\", \"tomatopasta\", \"bulgogi\", \"jabchae\"]\n",
    "        productnumlist=[\"2021_Product_00000\",\"2021_Product_00001\",\"2021_Product_00002\",\"2021_Product_00003\",\n",
    "                        \"2021_Product_00004\",\"2021_Product_00005\",\"2021_Product_00006\",\"2021_Product_00007\",\n",
    "                        \"2021_Product_00008\",\"2021_Product_00009\"]\n",
    "        result=productnumlist[dishnamelist.index(dishname)]\n",
    "        #return \"분석 성공 : {}\".format(result)\n",
    "        return redirect(\"http://localhost:8030/finish.do?rs=\"+result)\n",
    "if __name__ == '__main__':\n",
    "    # 서버 실행\n",
    "    app.run(host = 'localhost',port='8999')"
   ]
  },
  {
   "cell_type": "code",
   "execution_count": null,
   "metadata": {},
   "outputs": [],
   "source": []
  }
 ],
 "metadata": {
  "kernelspec": {
   "display_name": "Python 3",
   "language": "python",
   "name": "python3"
  },
  "language_info": {
   "codemirror_mode": {
    "name": "ipython",
    "version": 3
   },
   "file_extension": ".py",
   "mimetype": "text/x-python",
   "name": "python",
   "nbconvert_exporter": "python",
   "pygments_lexer": "ipython3",
   "version": "3.6.12"
  }
 },
 "nbformat": 4,
 "nbformat_minor": 4
}
