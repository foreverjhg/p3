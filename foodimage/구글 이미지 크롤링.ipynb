{
 "cells": [
  {
   "cell_type": "code",
   "execution_count": 1,
   "metadata": {},
   "outputs": [],
   "source": [
    "from selenium import webdriver as wb\n",
    "from selenium.webdriver.common.keys import Keys\n",
    "import os # 파일 시스템을 위한 라이브러리 ex) 파일, 폴더를 생성하거나 삭제\n",
    "from urllib.request import urlretrieve as ure # 이미지의 경로를 파일로 저장\n",
    "from bs4 import BeautifulSoup as bs\n",
    "import matplotlib.pyplot as plt\n",
    "import time"
   ]
  },
  {
   "cell_type": "code",
   "execution_count": 2,
   "metadata": {},
   "outputs": [],
   "source": [
    "# 영어는 폴더이름 & 이미지파일이름\n",
    "# 한글은 검색할 이름\n",
    "\n",
    "foodname = \"steak\"\n",
    "searchname = \"스테이크\""
   ]
  },
  {
   "cell_type": "code",
   "execution_count": 3,
   "metadata": {},
   "outputs": [
    {
     "name": "stdout",
     "output_type": "stream",
     "text": [
      "이미 있음\n"
     ]
    }
   ],
   "source": [
    "# 해당 음식 이름으로 폴더 생성\n",
    "\n",
    "try:\n",
    "    os.mkdir(\"C:/Users/SMT021/foodimage/datasets/{}\".format(foodname))\n",
    "except:\n",
    "    print(\"이미 있음\")"
   ]
  },
  {
   "cell_type": "code",
   "execution_count": null,
   "metadata": {},
   "outputs": [
    {
     "name": "stdout",
     "output_type": "stream",
     "text": [
      "로드된 이미지 개수 :  472\n"
     ]
    }
   ],
   "source": [
    "from selenium import webdriver\n",
    "from bs4 import BeautifulSoup as soups\n",
    "\n",
    "def search_selenium(search_name, search_path, search_limit) :\n",
    "    search_url = \"https://www.google.com/search?q=\" + str(search_name) + \"&hl=ko&tbm=isch\"\n",
    "    \n",
    "    browser = webdriver.Chrome(\"C:/Users/SMT021/Desktop/chromedriver.exe\")\n",
    "    browser.get(search_url)\n",
    "    \n",
    "    more=browser.find_element_by_name(\"q\")\n",
    "\n",
    "    try:\n",
    "        for i in range(50):\n",
    "            more.send_keys(Keys.PAGE_DOWN)\n",
    "            time.sleep(0.5) # 0.5초마다 실행됨 안걸어 놓으면 중복되서 나올 수 있음\n",
    "    except:\n",
    "        print(i)\n",
    "        # 에러가 나면 횟수를 출력\n",
    "    \n",
    "    image_count = len(browser.find_elements_by_tag_name(\"img\"))\n",
    "    \n",
    "    print(\"로드된 이미지 개수 : \", image_count)\n",
    "\n",
    "    browser.implicitly_wait(2)\n",
    "    \n",
    "    cnt = 592\n",
    "    \n",
    "    for i in range( search_limit ) :\n",
    "        image = browser.find_elements_by_tag_name(\"img\")[i]\n",
    "        image.screenshot(\"C:/Users/SMT021/foodimage/datasets/{}/{}.{}.png\".format(foodname, foodname, cnt))\n",
    "        cnt+=1\n",
    "    browser.close()\n",
    "\n",
    "if __name__ == \"__main__\" :\n",
    "\n",
    "    search_name = searchname\n",
    "    search_limit = 500\n",
    "    search_path = \"C:/Users/SMT021/foodimage/datasets/{}\".format(foodname)\n",
    "    # search_maybe(search_name, search_limit, search_path)\n",
    "    search_selenium(search_name, search_path, search_limit)"
   ]
  },
  {
   "cell_type": "code",
   "execution_count": null,
   "metadata": {},
   "outputs": [],
   "source": []
  },
  {
   "cell_type": "code",
   "execution_count": null,
   "metadata": {},
   "outputs": [],
   "source": []
  },
  {
   "cell_type": "code",
   "execution_count": null,
   "metadata": {},
   "outputs": [],
   "source": []
  }
 ],
 "metadata": {
  "kernelspec": {
   "display_name": "Python 3",
   "language": "python",
   "name": "python3"
  },
  "language_info": {
   "codemirror_mode": {
    "name": "ipython",
    "version": 3
   },
   "file_extension": ".py",
   "mimetype": "text/x-python",
   "name": "python",
   "nbconvert_exporter": "python",
   "pygments_lexer": "ipython3",
   "version": "3.6.12"
  }
 },
 "nbformat": 4,
 "nbformat_minor": 4
}
